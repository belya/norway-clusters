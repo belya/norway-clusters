{
 "cells": [
  {
   "cell_type": "markdown",
   "metadata": {},
   "source": [
    "### Препроцессинг признаков"
   ]
  },
  {
   "cell_type": "markdown",
   "metadata": {},
   "source": [
    "Загружаем исходные признаки в выборках. На данный момент категория не используется, т.к. не успел извлечь"
   ]
  },
  {
   "cell_type": "code",
   "execution_count": 1,
   "metadata": {},
   "outputs": [
    {
     "data": {
      "text/html": [
       "<div>\n",
       "<table border=\"1\" class=\"dataframe\">\n",
       "  <thead>\n",
       "    <tr style=\"text-align: right;\">\n",
       "      <th></th>\n",
       "      <th>title</th>\n",
       "      <th>description</th>\n",
       "      <th>price</th>\n",
       "      <th>product</th>\n",
       "    </tr>\n",
       "  </thead>\n",
       "  <tbody>\n",
       "    <tr>\n",
       "      <th>0</th>\n",
       "      <td>Vaniljeknuter</td>\n",
       "      <td>Størrelse\\n                    \\n             ...</td>\n",
       "      <td>39.9</td>\n",
       "      <td>43109</td>\n",
       "    </tr>\n",
       "    <tr>\n",
       "      <th>1</th>\n",
       "      <td>Erter</td>\n",
       "      <td>Størrelse\\n                    \\n             ...</td>\n",
       "      <td>9.4</td>\n",
       "      <td>43126</td>\n",
       "    </tr>\n",
       "    <tr>\n",
       "      <th>2</th>\n",
       "      <td>Frukost Fullkorn</td>\n",
       "      <td>Størrelse\\n                    \\n             ...</td>\n",
       "      <td>18.3</td>\n",
       "      <td>43208</td>\n",
       "    </tr>\n",
       "    <tr>\n",
       "      <th>3</th>\n",
       "      <td>Frukost Økonomi</td>\n",
       "      <td>Størrelse\\n                    \\n             ...</td>\n",
       "      <td>26.2</td>\n",
       "      <td>43208</td>\n",
       "    </tr>\n",
       "    <tr>\n",
       "      <th>4</th>\n",
       "      <td>Frukost Knekkebrød</td>\n",
       "      <td>Størrelse\\n                    \\n             ...</td>\n",
       "      <td>14.1</td>\n",
       "      <td>43208</td>\n",
       "    </tr>\n",
       "  </tbody>\n",
       "</table>\n",
       "</div>"
      ],
      "text/plain": [
       "                title                                        description  \\\n",
       "0       Vaniljeknuter  Størrelse\\n                    \\n             ...   \n",
       "1               Erter  Størrelse\\n                    \\n             ...   \n",
       "2    Frukost Fullkorn  Størrelse\\n                    \\n             ...   \n",
       "3     Frukost Økonomi  Størrelse\\n                    \\n             ...   \n",
       "4  Frukost Knekkebrød  Størrelse\\n                    \\n             ...   \n",
       "\n",
       "   price  product  \n",
       "0   39.9    43109  \n",
       "1    9.4    43126  \n",
       "2   18.3    43208  \n",
       "3   26.2    43208  \n",
       "4   14.1    43208  "
      ]
     },
     "execution_count": 1,
     "metadata": {},
     "output_type": "execute_result"
    }
   ],
   "source": [
    "import pandas as pd\n",
    "import numpy as np\n",
    "dataset = pd.read_csv(\"data.csv\")\n",
    "# dataset.drop([\"description\"], axis=1, inplace=True)\n",
    "dataset.head()"
   ]
  },
  {
   "cell_type": "markdown",
   "metadata": {},
   "source": [
    "Заполняем пропуски названия и описания пустыми строками"
   ]
  },
  {
   "cell_type": "code",
   "execution_count": 2,
   "metadata": {},
   "outputs": [],
   "source": [
    "dataset[\"title\"].fillna('', inplace=True)\n",
    "dataset[\"description\"].fillna('', inplace=True)"
   ]
  },
  {
   "cell_type": "markdown",
   "metadata": {},
   "source": [
    "Заполняем пропуски цены медианным значением в классе. Если во всем классе пропущена цена, используем медианное значение для всей выборки"
   ]
  },
  {
   "cell_type": "code",
   "execution_count": 3,
   "metadata": {},
   "outputs": [],
   "source": [
    "for index, row in dataset[np.isnan(dataset[\"price\"])].iterrows():\n",
    "    prices = dataset[(dataset[\"product\"] == row[\"product\"]) & (~np.isnan(dataset[\"price\"]))][\"price\"]\n",
    "    median_price = prices.median()\n",
    "    dataset.loc[index, \"price\"] = median_price\n",
    "\n",
    "dataset[\"price\"].fillna(dataset[~np.isnan(dataset[\"price\"])][\"price\"].median(), inplace=True)"
   ]
  },
  {
   "cell_type": "markdown",
   "metadata": {},
   "source": [
    "Получаем X и y для обучающей и тестовой"
   ]
  },
  {
   "cell_type": "code",
   "execution_count": 4,
   "metadata": {
    "collapsed": true
   },
   "outputs": [],
   "source": [
    "from sklearn.model_selection import train_test_split\n",
    "train, test = train_test_split(dataset, test_size=0.5)"
   ]
  },
  {
   "cell_type": "markdown",
   "metadata": {},
   "source": [
    "Преобразуем title и description в виде bag-of-words"
   ]
  },
  {
   "cell_type": "code",
   "execution_count": 5,
   "metadata": {
    "collapsed": true
   },
   "outputs": [],
   "source": [
    "from sklearn.feature_extraction.text import CountVectorizer\n",
    "for column in [\"title\", \"description\"]:  \n",
    "    vectorizer = CountVectorizer().fit(train[column])\n",
    "    train = pd.concat([train, pd.DataFrame(vectorizer.transform(train[column]).todense(), index=train.index, columns=vectorizer.vocabulary_).add_suffix(\"_\" + column)], axis=1)\n",
    "    train = train.drop([column], axis=1)\n",
    "    test = pd.concat([test, pd.DataFrame(vectorizer.transform(test[column]).todense(), index=test.index, columns=vectorizer.vocabulary_).add_suffix(\"_\" + column)], axis=1)\n",
    "    test = test.drop([column], axis=1)"
   ]
  },
  {
   "cell_type": "markdown",
   "metadata": {},
   "source": [
    "Нормализуем цену"
   ]
  },
  {
   "cell_type": "code",
   "execution_count": 6,
   "metadata": {},
   "outputs": [
    {
     "name": "stderr",
     "output_type": "stream",
     "text": [
      "/home/anatoli/.local/lib/python2.7/site-packages/sklearn/preprocessing/data.py:586: DeprecationWarning: Passing 1d arrays as data is deprecated in 0.17 and will raise ValueError in 0.19. Reshape your data either using X.reshape(-1, 1) if your data has a single feature or X.reshape(1, -1) if it contains a single sample.\n",
      "  warnings.warn(DEPRECATION_MSG_1D, DeprecationWarning)\n",
      "/home/anatoli/.local/lib/python2.7/site-packages/sklearn/preprocessing/data.py:649: DeprecationWarning: Passing 1d arrays as data is deprecated in 0.17 and will raise ValueError in 0.19. Reshape your data either using X.reshape(-1, 1) if your data has a single feature or X.reshape(1, -1) if it contains a single sample.\n",
      "  warnings.warn(DEPRECATION_MSG_1D, DeprecationWarning)\n",
      "/home/anatoli/.local/lib/python2.7/site-packages/sklearn/preprocessing/data.py:649: DeprecationWarning: Passing 1d arrays as data is deprecated in 0.17 and will raise ValueError in 0.19. Reshape your data either using X.reshape(-1, 1) if your data has a single feature or X.reshape(1, -1) if it contains a single sample.\n",
      "  warnings.warn(DEPRECATION_MSG_1D, DeprecationWarning)\n"
     ]
    }
   ],
   "source": [
    "from sklearn.preprocessing import StandardScaler\n",
    "price_scaler = StandardScaler().fit(train[\"price\"])\n",
    "train = pd.concat([train, pd.DataFrame(price_scaler.transform(train[\"price\"]), index=train.index, columns=[\"price_norm\"])], axis=1)\n",
    "train = train.drop([\"price\"], axis=1)\n",
    "test = pd.concat([test, pd.DataFrame(price_scaler.transform(test[\"price\"]), index=test.index, columns=[\"price_norm\"])], axis=1)\n",
    "test = test.drop([\"price\"], axis=1)"
   ]
  },
  {
   "cell_type": "code",
   "execution_count": 7,
   "metadata": {},
   "outputs": [
    {
     "data": {
      "text/html": [
       "<div>\n",
       "<table border=\"1\" class=\"dataframe\">\n",
       "  <thead>\n",
       "    <tr style=\"text-align: right;\">\n",
       "      <th></th>\n",
       "      <th>product</th>\n",
       "      <th>linser_title</th>\n",
       "      <th>plastbeger_title</th>\n",
       "      <th>venstre_title</th>\n",
       "      <th>akrylmaling_title</th>\n",
       "      <th>vindusmarkise_title</th>\n",
       "      <th>rdj8j_title</th>\n",
       "      <th>dynamic_title</th>\n",
       "      <th>hatt_title</th>\n",
       "      <th>sunt_title</th>\n",
       "      <th>...</th>\n",
       "      <th>selleristang_description</th>\n",
       "      <th>riboflavin_description</th>\n",
       "      <th>byggrynsgrøten_description</th>\n",
       "      <th>takpatespiker_description</th>\n",
       "      <th>1000_description</th>\n",
       "      <th>xenon_description</th>\n",
       "      <th>hjemland_description</th>\n",
       "      <th>fuktgjennomslippende_description</th>\n",
       "      <th>alkohol_description</th>\n",
       "      <th>price_norm</th>\n",
       "    </tr>\n",
       "  </thead>\n",
       "  <tbody>\n",
       "    <tr>\n",
       "      <th>1484</th>\n",
       "      <td>45849</td>\n",
       "      <td>0</td>\n",
       "      <td>0</td>\n",
       "      <td>0</td>\n",
       "      <td>0</td>\n",
       "      <td>0</td>\n",
       "      <td>0</td>\n",
       "      <td>0</td>\n",
       "      <td>0</td>\n",
       "      <td>0</td>\n",
       "      <td>...</td>\n",
       "      <td>0</td>\n",
       "      <td>0</td>\n",
       "      <td>0</td>\n",
       "      <td>0</td>\n",
       "      <td>0</td>\n",
       "      <td>0</td>\n",
       "      <td>0</td>\n",
       "      <td>0</td>\n",
       "      <td>0</td>\n",
       "      <td>-0.103382</td>\n",
       "    </tr>\n",
       "    <tr>\n",
       "      <th>1797</th>\n",
       "      <td>50665</td>\n",
       "      <td>0</td>\n",
       "      <td>0</td>\n",
       "      <td>0</td>\n",
       "      <td>0</td>\n",
       "      <td>0</td>\n",
       "      <td>0</td>\n",
       "      <td>0</td>\n",
       "      <td>0</td>\n",
       "      <td>0</td>\n",
       "      <td>...</td>\n",
       "      <td>0</td>\n",
       "      <td>0</td>\n",
       "      <td>0</td>\n",
       "      <td>0</td>\n",
       "      <td>0</td>\n",
       "      <td>0</td>\n",
       "      <td>0</td>\n",
       "      <td>0</td>\n",
       "      <td>0</td>\n",
       "      <td>0.311504</td>\n",
       "    </tr>\n",
       "    <tr>\n",
       "      <th>1477</th>\n",
       "      <td>44377</td>\n",
       "      <td>0</td>\n",
       "      <td>0</td>\n",
       "      <td>0</td>\n",
       "      <td>0</td>\n",
       "      <td>0</td>\n",
       "      <td>0</td>\n",
       "      <td>0</td>\n",
       "      <td>0</td>\n",
       "      <td>0</td>\n",
       "      <td>...</td>\n",
       "      <td>0</td>\n",
       "      <td>0</td>\n",
       "      <td>0</td>\n",
       "      <td>0</td>\n",
       "      <td>0</td>\n",
       "      <td>0</td>\n",
       "      <td>0</td>\n",
       "      <td>0</td>\n",
       "      <td>0</td>\n",
       "      <td>-0.195658</td>\n",
       "    </tr>\n",
       "    <tr>\n",
       "      <th>2330</th>\n",
       "      <td>55155</td>\n",
       "      <td>0</td>\n",
       "      <td>0</td>\n",
       "      <td>0</td>\n",
       "      <td>0</td>\n",
       "      <td>0</td>\n",
       "      <td>0</td>\n",
       "      <td>0</td>\n",
       "      <td>0</td>\n",
       "      <td>0</td>\n",
       "      <td>...</td>\n",
       "      <td>0</td>\n",
       "      <td>0</td>\n",
       "      <td>0</td>\n",
       "      <td>0</td>\n",
       "      <td>0</td>\n",
       "      <td>0</td>\n",
       "      <td>0</td>\n",
       "      <td>0</td>\n",
       "      <td>0</td>\n",
       "      <td>-0.175284</td>\n",
       "    </tr>\n",
       "    <tr>\n",
       "      <th>2047</th>\n",
       "      <td>52743</td>\n",
       "      <td>0</td>\n",
       "      <td>0</td>\n",
       "      <td>0</td>\n",
       "      <td>0</td>\n",
       "      <td>0</td>\n",
       "      <td>0</td>\n",
       "      <td>0</td>\n",
       "      <td>0</td>\n",
       "      <td>0</td>\n",
       "      <td>...</td>\n",
       "      <td>0</td>\n",
       "      <td>0</td>\n",
       "      <td>0</td>\n",
       "      <td>0</td>\n",
       "      <td>0</td>\n",
       "      <td>0</td>\n",
       "      <td>0</td>\n",
       "      <td>0</td>\n",
       "      <td>0</td>\n",
       "      <td>-0.095974</td>\n",
       "    </tr>\n",
       "  </tbody>\n",
       "</table>\n",
       "<p>5 rows × 8745 columns</p>\n",
       "</div>"
      ],
      "text/plain": [
       "      product  linser_title  plastbeger_title  venstre_title  \\\n",
       "1484    45849             0                 0              0   \n",
       "1797    50665             0                 0              0   \n",
       "1477    44377             0                 0              0   \n",
       "2330    55155             0                 0              0   \n",
       "2047    52743             0                 0              0   \n",
       "\n",
       "      akrylmaling_title  vindusmarkise_title  rdj8j_title  dynamic_title  \\\n",
       "1484                  0                    0            0              0   \n",
       "1797                  0                    0            0              0   \n",
       "1477                  0                    0            0              0   \n",
       "2330                  0                    0            0              0   \n",
       "2047                  0                    0            0              0   \n",
       "\n",
       "      hatt_title  sunt_title     ...      selleristang_description  \\\n",
       "1484           0           0     ...                             0   \n",
       "1797           0           0     ...                             0   \n",
       "1477           0           0     ...                             0   \n",
       "2330           0           0     ...                             0   \n",
       "2047           0           0     ...                             0   \n",
       "\n",
       "      riboflavin_description  byggrynsgrøten_description  \\\n",
       "1484                       0                           0   \n",
       "1797                       0                           0   \n",
       "1477                       0                           0   \n",
       "2330                       0                           0   \n",
       "2047                       0                           0   \n",
       "\n",
       "      takpatespiker_description  1000_description  xenon_description  \\\n",
       "1484                          0                 0                  0   \n",
       "1797                          0                 0                  0   \n",
       "1477                          0                 0                  0   \n",
       "2330                          0                 0                  0   \n",
       "2047                          0                 0                  0   \n",
       "\n",
       "      hjemland_description  fuktgjennomslippende_description  \\\n",
       "1484                     0                                 0   \n",
       "1797                     0                                 0   \n",
       "1477                     0                                 0   \n",
       "2330                     0                                 0   \n",
       "2047                     0                                 0   \n",
       "\n",
       "      alkohol_description  price_norm  \n",
       "1484                    0   -0.103382  \n",
       "1797                    0    0.311504  \n",
       "1477                    0   -0.195658  \n",
       "2330                    0   -0.175284  \n",
       "2047                    0   -0.095974  \n",
       "\n",
       "[5 rows x 8745 columns]"
      ]
     },
     "execution_count": 7,
     "metadata": {},
     "output_type": "execute_result"
    }
   ],
   "source": [
    "train.head()"
   ]
  },
  {
   "cell_type": "code",
   "execution_count": 8,
   "metadata": {},
   "outputs": [
    {
     "data": {
      "text/html": [
       "<div>\n",
       "<table border=\"1\" class=\"dataframe\">\n",
       "  <thead>\n",
       "    <tr style=\"text-align: right;\">\n",
       "      <th></th>\n",
       "      <th>product</th>\n",
       "      <th>linser_title</th>\n",
       "      <th>plastbeger_title</th>\n",
       "      <th>venstre_title</th>\n",
       "      <th>akrylmaling_title</th>\n",
       "      <th>vindusmarkise_title</th>\n",
       "      <th>rdj8j_title</th>\n",
       "      <th>dynamic_title</th>\n",
       "      <th>hatt_title</th>\n",
       "      <th>sunt_title</th>\n",
       "      <th>...</th>\n",
       "      <th>selleristang_description</th>\n",
       "      <th>riboflavin_description</th>\n",
       "      <th>byggrynsgrøten_description</th>\n",
       "      <th>takpatespiker_description</th>\n",
       "      <th>1000_description</th>\n",
       "      <th>xenon_description</th>\n",
       "      <th>hjemland_description</th>\n",
       "      <th>fuktgjennomslippende_description</th>\n",
       "      <th>alkohol_description</th>\n",
       "      <th>price_norm</th>\n",
       "    </tr>\n",
       "  </thead>\n",
       "  <tbody>\n",
       "    <tr>\n",
       "      <th>1640</th>\n",
       "      <td>53069</td>\n",
       "      <td>0</td>\n",
       "      <td>0</td>\n",
       "      <td>0</td>\n",
       "      <td>0</td>\n",
       "      <td>0</td>\n",
       "      <td>0</td>\n",
       "      <td>0</td>\n",
       "      <td>0</td>\n",
       "      <td>0</td>\n",
       "      <td>...</td>\n",
       "      <td>0</td>\n",
       "      <td>0</td>\n",
       "      <td>0</td>\n",
       "      <td>0</td>\n",
       "      <td>0</td>\n",
       "      <td>0</td>\n",
       "      <td>0</td>\n",
       "      <td>0</td>\n",
       "      <td>0</td>\n",
       "      <td>0.211487</td>\n",
       "    </tr>\n",
       "    <tr>\n",
       "      <th>511</th>\n",
       "      <td>47176</td>\n",
       "      <td>0</td>\n",
       "      <td>0</td>\n",
       "      <td>0</td>\n",
       "      <td>0</td>\n",
       "      <td>0</td>\n",
       "      <td>0</td>\n",
       "      <td>0</td>\n",
       "      <td>0</td>\n",
       "      <td>0</td>\n",
       "      <td>...</td>\n",
       "      <td>0</td>\n",
       "      <td>0</td>\n",
       "      <td>0</td>\n",
       "      <td>0</td>\n",
       "      <td>0</td>\n",
       "      <td>0</td>\n",
       "      <td>0</td>\n",
       "      <td>0</td>\n",
       "      <td>0</td>\n",
       "      <td>-0.010774</td>\n",
       "    </tr>\n",
       "    <tr>\n",
       "      <th>1250</th>\n",
       "      <td>45755</td>\n",
       "      <td>0</td>\n",
       "      <td>0</td>\n",
       "      <td>0</td>\n",
       "      <td>0</td>\n",
       "      <td>0</td>\n",
       "      <td>0</td>\n",
       "      <td>1</td>\n",
       "      <td>0</td>\n",
       "      <td>0</td>\n",
       "      <td>...</td>\n",
       "      <td>0</td>\n",
       "      <td>0</td>\n",
       "      <td>0</td>\n",
       "      <td>0</td>\n",
       "      <td>0</td>\n",
       "      <td>0</td>\n",
       "      <td>0</td>\n",
       "      <td>0</td>\n",
       "      <td>0</td>\n",
       "      <td>-0.189916</td>\n",
       "    </tr>\n",
       "    <tr>\n",
       "      <th>401</th>\n",
       "      <td>44548</td>\n",
       "      <td>0</td>\n",
       "      <td>0</td>\n",
       "      <td>0</td>\n",
       "      <td>0</td>\n",
       "      <td>0</td>\n",
       "      <td>0</td>\n",
       "      <td>0</td>\n",
       "      <td>0</td>\n",
       "      <td>0</td>\n",
       "      <td>...</td>\n",
       "      <td>0</td>\n",
       "      <td>0</td>\n",
       "      <td>0</td>\n",
       "      <td>0</td>\n",
       "      <td>0</td>\n",
       "      <td>0</td>\n",
       "      <td>0</td>\n",
       "      <td>0</td>\n",
       "      <td>0</td>\n",
       "      <td>-0.193805</td>\n",
       "    </tr>\n",
       "    <tr>\n",
       "      <th>575</th>\n",
       "      <td>47602</td>\n",
       "      <td>0</td>\n",
       "      <td>0</td>\n",
       "      <td>0</td>\n",
       "      <td>0</td>\n",
       "      <td>0</td>\n",
       "      <td>0</td>\n",
       "      <td>0</td>\n",
       "      <td>0</td>\n",
       "      <td>0</td>\n",
       "      <td>...</td>\n",
       "      <td>0</td>\n",
       "      <td>0</td>\n",
       "      <td>0</td>\n",
       "      <td>0</td>\n",
       "      <td>0</td>\n",
       "      <td>0</td>\n",
       "      <td>0</td>\n",
       "      <td>0</td>\n",
       "      <td>0</td>\n",
       "      <td>-0.173024</td>\n",
       "    </tr>\n",
       "  </tbody>\n",
       "</table>\n",
       "<p>5 rows × 8745 columns</p>\n",
       "</div>"
      ],
      "text/plain": [
       "      product  linser_title  plastbeger_title  venstre_title  \\\n",
       "1640    53069             0                 0              0   \n",
       "511     47176             0                 0              0   \n",
       "1250    45755             0                 0              0   \n",
       "401     44548             0                 0              0   \n",
       "575     47602             0                 0              0   \n",
       "\n",
       "      akrylmaling_title  vindusmarkise_title  rdj8j_title  dynamic_title  \\\n",
       "1640                  0                    0            0              0   \n",
       "511                   0                    0            0              0   \n",
       "1250                  0                    0            0              1   \n",
       "401                   0                    0            0              0   \n",
       "575                   0                    0            0              0   \n",
       "\n",
       "      hatt_title  sunt_title     ...      selleristang_description  \\\n",
       "1640           0           0     ...                             0   \n",
       "511            0           0     ...                             0   \n",
       "1250           0           0     ...                             0   \n",
       "401            0           0     ...                             0   \n",
       "575            0           0     ...                             0   \n",
       "\n",
       "      riboflavin_description  byggrynsgrøten_description  \\\n",
       "1640                       0                           0   \n",
       "511                        0                           0   \n",
       "1250                       0                           0   \n",
       "401                        0                           0   \n",
       "575                        0                           0   \n",
       "\n",
       "      takpatespiker_description  1000_description  xenon_description  \\\n",
       "1640                          0                 0                  0   \n",
       "511                           0                 0                  0   \n",
       "1250                          0                 0                  0   \n",
       "401                           0                 0                  0   \n",
       "575                           0                 0                  0   \n",
       "\n",
       "      hjemland_description  fuktgjennomslippende_description  \\\n",
       "1640                     0                                 0   \n",
       "511                      0                                 0   \n",
       "1250                     0                                 0   \n",
       "401                      0                                 0   \n",
       "575                      0                                 0   \n",
       "\n",
       "      alkohol_description  price_norm  \n",
       "1640                    0    0.211487  \n",
       "511                     0   -0.010774  \n",
       "1250                    0   -0.189916  \n",
       "401                     0   -0.193805  \n",
       "575                     0   -0.173024  \n",
       "\n",
       "[5 rows x 8745 columns]"
      ]
     },
     "execution_count": 8,
     "metadata": {},
     "output_type": "execute_result"
    }
   ],
   "source": [
    "test.head()"
   ]
  },
  {
   "cell_type": "markdown",
   "metadata": {},
   "source": [
    "### Получение точности"
   ]
  },
  {
   "cell_type": "markdown",
   "metadata": {},
   "source": [
    "Оцениваем максимальные стандартные отклонения среди всех классов для каждого признака. Порогом устанавливаем $1.5\\sigma$"
   ]
  },
  {
   "cell_type": "code",
   "execution_count": 9,
   "metadata": {},
   "outputs": [
    {
     "data": {
      "text/plain": [
       "array([ 0.70710678,  0.75      ,  0.        , ...,  0.70710678,\n",
       "        0.70710678,  3.64982898])"
      ]
     },
     "execution_count": 9,
     "metadata": {},
     "output_type": "execute_result"
    }
   ],
   "source": [
    "stds = [];\n",
    "train_X = train.drop([\"product\"], axis=1)\n",
    "for product in train[\"product\"].unique():\n",
    "    stds.append(np.std(train_X[train[\"product\"] == product]))\n",
    "threshold = np.max(stds, axis=0)*1.5\n",
    "threshold"
   ]
  },
  {
   "attachments": {
    "prepare-yourself.png": {
     "image/png": "[encoded data removed]"
    }
   },
   "cell_type": "markdown",
   "metadata": {},
   "source": [
    "Находим долю верно классифицированных объектов для каждого продукта. ![prepare-yourself.png](attachment:prepare-yourself.png)"
   ]
  },
  {
   "cell_type": "code",
   "execution_count": 10,
   "metadata": {
    "collapsed": true
   },
   "outputs": [],
   "source": [
    "def accuracy(dataset):\n",
    "    dataset_X = dataset.drop([\"product\"], axis=1)\n",
    "    accuracies = []\n",
    "    for product in dataset[\"product\"].unique():\n",
    "        positive = dataset_X[dataset[\"product\"] == product]\n",
    "        negative = dataset_X[dataset[\"product\"] != product]\n",
    "        mean = np.mean(positive)\n",
    "        positive_accuracy = (((positive - mean) <= threshold).all(axis=1)).sum()/float(positive.shape[0])\n",
    "        negative_accuracy = (((negative - mean) > threshold).any(axis=1)).sum()/float(negative.shape[0])\n",
    "        accuracies.append(np.mean([positive_accuracy, negative_accuracy]))\n",
    "\n",
    "    return np.mean(accuracies)"
   ]
  },
  {
   "cell_type": "code",
   "execution_count": 11,
   "metadata": {},
   "outputs": [
    {
     "data": {
      "text/plain": [
       "0.86475440191987074"
      ]
     },
     "execution_count": 11,
     "metadata": {},
     "output_type": "execute_result"
    }
   ],
   "source": [
    "accuracy(train)"
   ]
  },
  {
   "cell_type": "code",
   "execution_count": 12,
   "metadata": {},
   "outputs": [
    {
     "data": {
      "text/plain": [
       "0.79120829258134906"
      ]
     },
     "execution_count": 12,
     "metadata": {},
     "output_type": "execute_result"
    }
   ],
   "source": [
    "accuracy(test)"
   ]
  },
  {
   "attachments": {},
   "cell_type": "markdown",
   "metadata": {},
   "source": [
    "Оцениваем количество кластеров при кластеризации выборок. Пока что пункт бесполезен, т.к. на данном этапе кластеры начинают вписываться в рамки только в случае, если их количество раза в два превышает количество продуктов."
   ]
  },
  {
   "cell_type": "code",
   "execution_count": null,
   "metadata": {},
   "outputs": [],
   "source": [
    "from sklearn.cluster import KMeans, AgglomerativeClustering\n",
    "\n",
    "def clusters(dataset):\n",
    "    dataset_X = dataset.drop([\"product\"], axis=1)\n",
    "    for n in range(350, dataset.shape[0], 10):\n",
    "        print \"Clusters: {0}\".format(n)\n",
    "        clusters = AgglomerativeClustering(n_clusters=n).fit_predict(dataset_X)\n",
    "        stds = [];\n",
    "        for cluster in np.unique(clusters):\n",
    "            stds.append(np.std(dataset_X[clusters == cluster]))\n",
    "        print \"Overflows: {0}\".format((np.max(stds, axis=0) > threshold).sum())\n",
    "        if (np.max(stds, axis=0) <= threshold).all():\n",
    "            break;\n",
    "    return n"
   ]
  },
  {
   "cell_type": "code",
   "execution_count": null,
   "metadata": {},
   "outputs": [],
   "source": [
    "clusters(train)"
   ]
  },
  {
   "cell_type": "code",
   "execution_count": null,
   "metadata": {
    "collapsed": true
   },
   "outputs": [],
   "source": [
    "clusters(test)"
   ]
  },
  {
   "cell_type": "markdown",
   "metadata": {},
   "source": [
    "### Проблема \n",
    "Кластер почти никогда не вписывается в очерченные всеми классами в выборке рамки. Можно вместо порога $1.5\\sigma$ использовать $a\\sigma$, где a - вектор коэффициентов, который тоже устанавливается по выборкам"
   ]
  }
 ],
 "metadata": {
  "kernelspec": {
   "display_name": "Python 2",
   "language": "python",
   "name": "python2"
  },
  "language_info": {
   "codemirror_mode": {
    "name": "ipython",
    "version": 2
   },
   "file_extension": ".py",
   "mimetype": "text/x-python",
   "name": "python",
   "nbconvert_exporter": "python",
   "pygments_lexer": "ipython2",
   "version": "2.7.12"
  }
 },
 "nbformat": 4,
 "nbformat_minor": 2
}
